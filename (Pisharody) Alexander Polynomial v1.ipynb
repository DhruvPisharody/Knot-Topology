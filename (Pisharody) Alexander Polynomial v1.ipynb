{
 "cells": [
  {
   "cell_type": "code",
   "execution_count": 1,
   "id": "25ece1b8",
   "metadata": {},
   "outputs": [],
   "source": [
    "import matplotlib.pyplot as plt\n",
    "import numpy as np\n",
    "import sympy as sm\n",
    "import random"
   ]
  },
  {
   "cell_type": "code",
   "execution_count": 2,
   "id": "06b3f443",
   "metadata": {},
   "outputs": [],
   "source": [
    "def deljustz(proj, z):\n",
    "    ''' Removes consecutive repeated points that in the 3D knot were just a change in the z coordinate '''\n",
    "    \n",
    "    extra = []\n",
    "    for i in range(len(proj)-1):\n",
    "        if all(proj[i] == proj[i+1]):\n",
    "            extra.append(i+1) #If two consecutive points are the same, the second will be deleted\n",
    "    \n",
    "    proj = np.delete(proj, extra, axis=0)\n",
    "    z = np.delete(z, extra)\n",
    "    return proj, z"
   ]
  },
  {
   "cell_type": "code",
   "execution_count": 3,
   "id": "fc2adc6b",
   "metadata": {},
   "outputs": [],
   "source": [
    "def crossings(proj, z):\n",
    "    over = np.array([])\n",
    "    under = np.array([])\n",
    "    for i in range(1,len(proj)):\n",
    "        for j in range(i+1,len(proj)): #Check for repetition only in the points after so the same crossing isn't checked twice\n",
    "            if all(proj[i] == proj[j]):\n",
    "                if z[i] > z[j]:\n",
    "                    over = np.append(over,i)\n",
    "                    under = np.append(under,j)\n",
    "                else:\n",
    "                    over = np.append(over,j)\n",
    "                    under = np.append(under,i)\n",
    "    \n",
    "    over = over[np.argsort(under)] #Sorts overcrossings with their corresponding undercrossing (sorted below)\n",
    "    under = np.sort(under) #Sorts undercrossings in order of first to last\n",
    "    return under, over"
   ]
  },
  {
   "cell_type": "code",
   "execution_count": 4,
   "id": "ed61b934",
   "metadata": {},
   "outputs": [],
   "source": [
    "def alex(x,y,z):\n",
    "    ''' Assumes every point of the knot lies on an integer 3D coordinate '''\n",
    "    ''' Assumes you have the x,y,z coordinates for the curve '''\n",
    "    ''' Assumes there are atleast two crossings in the knot '''\n",
    "    ''' Assumes there are no overlapping line segments in the projection '''\n",
    "    ''' Assumes the start and end point of the curve is not a crossing in the projection '''\n",
    "    ''' Assumes that no two consecutive undercrossings are also consecutive points in the projection '''\n",
    "    \n",
    "    proj_ = np.array([x,y]).T\n",
    "    proj, zn = deljustz(proj_, z)\n",
    "    us, os = crossings(proj, zn)\n",
    "    ulen = len(us)\n",
    "    ubins = np.array([0] + us.tolist() + [len(proj)-1])\n",
    "    #Demarcates the arcs into bins with the endpoints being the undercrossings\n",
    "    #The undercrossing itself is placed into the bin (arc) it is the left edge of\n",
    "    \n",
    "    t = sm.symbols('t')\n",
    "    alexvars = [1, t, -t, -1]\n",
    "    alexmat = sm.zeros(ulen)\n",
    "    \n",
    "    for i in range(ulen):\n",
    "        vec1 = proj[int(os[i]+1)] - proj[int(os[i])]\n",
    "        vec2 = proj[int(us[i]+1)] - proj[int(us[i])]\n",
    "        if np.cross(vec1,vec2) == -1: #Point after overcrossing --> Point after undercrossing : Clockwise\n",
    "            ps = [os[i], us[i]+1, os[i], us[i]-1]\n",
    "        else:  #Point after overcrossing --> Point after undercrossing : Anti-clockwise\n",
    "            ps = [os[i], us[i]-1, os[i], us[i]+1]\n",
    "            \n",
    "        # Though the Alexander Polynomial in actuality checks the arcs immediately before and after the crossing,\n",
    "        # not the point of the crossing itself, the overcrossing point must lie on the same arc as its two neighbours\n",
    "        # so to prevent errors from the neighbours being undercrossings (as in Trefoil.csv), I have used the\n",
    "        # points themselves.\n",
    "        \n",
    "        for j in range(4):\n",
    "            arcbin,_ = np.histogram(ps[j], bins=ubins)\n",
    "            arc = np.argmax(arcbin)%ulen #Which arc is the point in, with the first and last bin being the same arc\n",
    "            alexmat[ulen*i + arc] += alexvars[j]\n",
    "    \n",
    "    alexmat.col_del(0)\n",
    "    alexmat.row_del(0)\n",
    "    return alexmat.det()"
   ]
  },
  {
   "cell_type": "code",
   "execution_count": 5,
   "id": "e58197ee",
   "metadata": {},
   "outputs": [
    {
     "data": {
      "text/latex": [
       "$\\displaystyle t^{2} - t + 1$"
      ],
      "text/plain": [
       "t**2 - t + 1"
      ]
     },
     "execution_count": 5,
     "metadata": {},
     "output_type": "execute_result"
    }
   ],
   "source": [
    "x,y,z = np.loadtxt('Trefoil.csv', delimiter=',', unpack=True)\n",
    "alex(x,y,z)"
   ]
  },
  {
   "cell_type": "code",
   "execution_count": 6,
   "id": "b44e7dd3",
   "metadata": {},
   "outputs": [
    {
     "data": {
      "text/latex": [
       "$\\displaystyle t^{2} - 3 t + 1$"
      ],
      "text/plain": [
       "t**2 - 3*t + 1"
      ]
     },
     "execution_count": 6,
     "metadata": {},
     "output_type": "execute_result"
    }
   ],
   "source": [
    "x_,y_,z_ = np.loadtxt('Figure 8.csv', delimiter=',', unpack=True)\n",
    "alex(x_,y_,z_)"
   ]
  }
 ],
 "metadata": {
  "kernelspec": {
   "display_name": "Python 3 (ipykernel)",
   "language": "python",
   "name": "python3"
  },
  "language_info": {
   "codemirror_mode": {
    "name": "ipython",
    "version": 3
   },
   "file_extension": ".py",
   "mimetype": "text/x-python",
   "name": "python",
   "nbconvert_exporter": "python",
   "pygments_lexer": "ipython3",
   "version": "3.9.7"
  }
 },
 "nbformat": 4,
 "nbformat_minor": 5
}
