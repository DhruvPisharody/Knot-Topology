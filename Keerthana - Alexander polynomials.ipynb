{
 "cells": [
  {
   "cell_type": "code",
   "execution_count": 13,
   "id": "8e315ba6",
   "metadata": {},
   "outputs": [],
   "source": [
    "import matplotlib.pyplot as plt\n",
    "import numpy as np\n",
    "from vpython import *\n",
    "from sympy import *\n",
    "def column(matrix, i):\n",
    "    return [row[i] for row in matrix]"
   ]
  },
  {
   "cell_type": "code",
   "execution_count": 25,
   "id": "fcbd6233",
   "metadata": {},
   "outputs": [],
   "source": [
    "def alexpolynomial(x,y,z):\n",
    "    points = np.zeros(shape=(len(x),3))\n",
    "    points[:,0]=x\n",
    "    points[:,1]=y\n",
    "    points[:,2]=z\n",
    "\n",
    "    #Remove extraneous 3D points\n",
    "    deletes = []\n",
    "    for i in range(0,len(points)-1):\n",
    "        if (points[i][0]==points[i+1][0]) and (points[i][1]==points[i+1][1]):\n",
    "            deletes.append(i+1)       \n",
    "    project = np.delete(points, deletes, axis=0)\n",
    "\n",
    "    #Finding the corssing points\n",
    "    num = 0\n",
    "    oindex = []\n",
    "    uindex = []\n",
    "    for i in range(1,len(project)-1):\n",
    "        point1 = project[i]\n",
    "        for j in range(i+1,len(project)):\n",
    "            point2 = project[j]\n",
    "            if (point1[0]==point2[0]) and (point1[1]==point2[1]):\n",
    "                num = num + 1\n",
    "                if (point1[2]>point2[2]):\n",
    "                    oindex.append(i)\n",
    "                    uindex.append(j)\n",
    "                else:\n",
    "                    oindex.append(j)\n",
    "                    uindex.append(i)\n",
    "\n",
    "    project = np.delete(project, 2, axis=1)   #reduce to the string to a 2D projection             \n",
    "    t = symbols('t')\n",
    "    M = zeros(num, num) #Create empty matrix for alexander polynomial\n",
    "\n",
    "    #Iterate over the number of crossings\n",
    "    for i in range(num):\n",
    "        over = project[int(oindex[i]+1)] - project[int(oindex[i])]\n",
    "        under = project[int(uindex[i]+1)] - project[int(uindex[i])]\n",
    "        if np.cross(over,under) == -1:\n",
    "            pol = [1-t, t, -1] #order is: [overstrand arc, understrand head arc, understrand tail arc]\n",
    "        else:\n",
    "            pol = [1-t, -1, t]\n",
    "\n",
    "        endarc = [a-1 for a in uindex] #define the arc by the end of each arc, i.e. the point where it is cut off \n",
    "                                    #by the overstrand at the crossing. Then the 'name' of the arc is the index.\n",
    "\n",
    "        #for overstrand arc\n",
    "        list1 = endarc + [oindex[i]]\n",
    "        list1 = sorted(list1)\n",
    "        arc1 = list1.index(int(oindex[i]))\n",
    "        if arc1 > (num-1):\n",
    "            arc1 = 0\n",
    "        M[i*(num) + arc1] = pol[0]\n",
    "\n",
    "        #for understrand head arc\n",
    "        list2 = endarc + [uindex[i]+1]\n",
    "        list2 = sorted(list2)\n",
    "        arc2 = list2.index(int(uindex[i]+1))\n",
    "        if arc2 > (len(endarc)-1):\n",
    "            arc2 = 0\n",
    "        M[i*(num) + arc2] = pol[1]\n",
    "\n",
    "        #for understrand tail arc\n",
    "        list3 = sorted(endarc)\n",
    "        arc3 = list3.index(int(uindex[i]-1))\n",
    "        M[i*(num) + arc3] = pol[2]\n",
    "\n",
    "    M.col_del(0)\n",
    "    M.row_del(0)\n",
    "    return M.det()"
   ]
  },
  {
   "cell_type": "code",
   "execution_count": 26,
   "id": "52b9ee27",
   "metadata": {},
   "outputs": [
    {
     "data": {
      "text/latex": [
       "$\\displaystyle - t^{2} + t - 1$"
      ],
      "text/plain": [
       "-t**2 + t - 1"
      ]
     },
     "execution_count": 26,
     "metadata": {},
     "output_type": "execute_result"
    }
   ],
   "source": [
    "(x,y,z) = np.loadtxt('/Users/Keerthana/Downloads/Trefoil.csv', delimiter=',', unpack=True)\n",
    "alexpolynomial(x,y,z)"
   ]
  },
  {
   "cell_type": "code",
   "execution_count": 27,
   "id": "e2f4d278",
   "metadata": {},
   "outputs": [
    {
     "data": {
      "text/latex": [
       "$\\displaystyle - t^{2} + 3 t - 1$"
      ],
      "text/plain": [
       "-t**2 + 3*t - 1"
      ]
     },
     "execution_count": 27,
     "metadata": {},
     "output_type": "execute_result"
    }
   ],
   "source": [
    "(x,y,z) = np.loadtxt('/Users/Keerthana/Downloads/Figure 8.csv', delimiter=',', unpack=True)\n",
    "alexpolynomial(x,y,z)"
   ]
  }
 ],
 "metadata": {
  "kernelspec": {
   "display_name": "Python 3 (ipykernel)",
   "language": "python",
   "name": "python3"
  },
  "language_info": {
   "codemirror_mode": {
    "name": "ipython",
    "version": 3
   },
   "file_extension": ".py",
   "mimetype": "text/x-python",
   "name": "python",
   "nbconvert_exporter": "python",
   "pygments_lexer": "ipython3",
   "version": "3.9.7"
  },
  "vscode": {
   "interpreter": {
    "hash": "b6fbef5ff2766c8a64a42a1b26ddbc3e1dd8567d46296bb5270eaf7c4182fad3"
   }
  }
 },
 "nbformat": 4,
 "nbformat_minor": 5
}
