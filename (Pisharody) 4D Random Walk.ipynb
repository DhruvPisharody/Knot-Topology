{
 "cells": [
  {
   "cell_type": "code",
   "execution_count": null,
   "id": "510ac729",
   "metadata": {},
   "outputs": [],
   "source": [
    "import numpy as np\n",
    "import matplotlib.pyplot as plt\n",
    "from vpython import *\n",
    "import random"
   ]
  },
  {
   "cell_type": "markdown",
   "id": "bc8830e1",
   "metadata": {},
   "source": [
    "# NumPy Arrays"
   ]
  },
  {
   "cell_type": "code",
   "execution_count": null,
   "id": "b4bfc23f",
   "metadata": {},
   "outputs": [],
   "source": [
    "def walknumpy(x,y,z,t):\n",
    "    \n",
    "    c = np.array([x,y,z,t]).T\n",
    "    length = len(c)\n",
    "    \n",
    "    for i in range(num):\n",
    "        rate(5)\n",
    "        for i in range(length-2,-1,-1):        \n",
    "            p_prev = c[i+1]\n",
    "            p = c[i]\n",
    "            p_next = c[i-1]\n",
    "            p_2next = c[i-2]\n",
    "\n",
    "            d0 = p - p_prev\n",
    "            d1 = p_next - p\n",
    "            d2 = p_2next - p_next\n",
    "\n",
    "            if np.dot(d0,d1) == 0:\n",
    "                vecs = [d0]\n",
    "                if all(((p_prev+d1)!=c).any(1)):\n",
    "                    vecs.append(d1)\n",
    "\n",
    "                walkto = random.choice(vecs)\n",
    "                c[i] = p_prev + walkto\n",
    "\n",
    "            if d0 == -d2:\n",
    "                perp1 = np.array([d1[3], d1[0], d1[1], d1[2]])\n",
    "                perp2 = np.array([d1[2], d1[3], d1[0], d1[1]])\n",
    "                perp3 = np.array([d1[1], d1[2], d1[3], d1[0]])\n",
    "                \n",
    "                rot = []\n",
    "                spinto = [perp1, -perp1, perp2, -perp2, perp3, -perp3]\n",
    "                for place in spinto:\n",
    "                    if all(((p_prev+place)!=c).any(1)) and all(((p_2next+place)!=c).any(1)):\n",
    "                        rot.append(place)\n",
    "                rot.append(d0)\n",
    "\n",
    "                rot8 = random.choice(rot)\n",
    "                c[i] = p_prev + rot8\n",
    "                c[i-1] = p_2next + rot8"
   ]
  },
  {
   "cell_type": "markdown",
   "id": "bfa51ecd",
   "metadata": {},
   "source": [
    "# VPython"
   ]
  },
  {
   "cell_type": "code",
   "execution_count": null,
   "id": "e70daf59",
   "metadata": {},
   "outputs": [],
   "source": [
    "def colcoord(col):\n",
    "    if col.x > 0:\n",
    "        coord = np.log(1 - col.x)/np.log(0.5)\n",
    "    else:\n",
    "        coord = -np.log(1 - col.z)/np.log(0.5)\n",
    "    \n",
    "    return coord\n",
    "    \n",
    "def coordcol(coord):\n",
    "    g = 0\n",
    "    if coord >= 0:\n",
    "        r = 1 - 0.5**coord\n",
    "        b = 0\n",
    "    else:\n",
    "        r = 0\n",
    "        b = 1 - 0.5**coord\n",
    "        \n",
    "    return vector(r,g,b)"
   ]
  },
  {
   "cell_type": "code",
   "execution_count": null,
   "id": "54cf6548",
   "metadata": {},
   "outputs": [],
   "source": [
    "def vectoarr(c, i):\n",
    "    p = c.point(i)\n",
    "    x = p['pos'].x\n",
    "    y = p['pos'].y\n",
    "    z = p['pos'].z\n",
    "    t = colcoord(p['color'])\n",
    "    return np.array([x,y,z,t])"
   ]
  },
  {
   "cell_type": "code",
   "execution_count": null,
   "id": "114ade63",
   "metadata": {},
   "outputs": [],
   "source": [
    "def walk(c, num):\n",
    "    \n",
    "    length = c.npoints\n",
    "    \n",
    "    for i in range(num):\n",
    "        rate(5)\n",
    "        for i in range(length-2,-1,-1):        \n",
    "            p_prev = vectoarr(c, i+1)\n",
    "            p = vectoarr(c, i)\n",
    "            p_next = vectoarr(c, i-1)\n",
    "            p_2next = vectoarr(c, i-2)\n",
    "            \n",
    "            d0 = p - p_prev\n",
    "            d1 = p_next - p\n",
    "            d2 = p_2next - p_next\n",
    "\n",
    "            if np.dot(d0,d1) == 0:\n",
    "                vecs = [d0]\n",
    "                if all(((p_prev+d1)!=c).any(1)):\n",
    "                    vecs.append(d1)\n",
    "\n",
    "                walkto = random.choice(vecs)\n",
    "                p = p_prev + walkto\n",
    "                c.modify(i, pos=vector(p[0],p[1],p[2]), color=coordcol(p[3]))\n",
    "\n",
    "            p_prev = vectoarr(c, i+1)\n",
    "            p = vectoarr(c, i)\n",
    "            p_next = vectoarr(c, i-1)\n",
    "            p_2next = vectoarr(c, i-2)\n",
    "            \n",
    "            d0 = p - p_prev\n",
    "            d1 = p_next - p\n",
    "            d2 = p_2next - p_next\n",
    "\n",
    "            if d0 == -d2:\n",
    "                perp1 = np.array([d1[3], d1[0], d1[1], d1[2]])\n",
    "                perp2 = np.array([d1[2], d1[3], d1[0], d1[1]])\n",
    "                perp3 = np.array([d1[1], d1[2], d1[3], d1[0]])\n",
    "                \n",
    "                rot = []\n",
    "                spinto = [perp1, -perp1, perp2, -perp2, perp3, -perp3]\n",
    "                for place in spinto:\n",
    "                    if all(((p_prev+place)!=c).any(1)) and all(((p_2next+place)!=c).any(1)):\n",
    "                        rot.append(place)\n",
    "                rot.append(d0)\n",
    "\n",
    "                rot8 = random.choice(rot)\n",
    "                p = p_prev + rot8\n",
    "                p_next = p_2next + rot8\n",
    "                c.modify(i, pos=vector(p[0],p[1],p[2]), color=coordcol(p[3]))\n",
    "                c.modify(i+1, pos=vector(p_next[0],p_next[1],p_next[2]), color=coordcol(p_next[3]))"
   ]
  },
  {
   "cell_type": "code",
   "execution_count": null,
   "id": "2bcbc1f5",
   "metadata": {},
   "outputs": [],
   "source": [
    "scene = canvas()"
   ]
  },
  {
   "cell_type": "code",
   "execution_count": null,
   "id": "e0bf0765",
   "metadata": {},
   "outputs": [],
   "source": [
    "x1,y1,z1 = np.loadtxt('Fancy Trefoil.csv', delimiter = ',', unpack = True)\n",
    "trefoil = curve()\n",
    "for i in range(len(x1)):\n",
    "    trefoil.append(pos=vector(x1[i], y1[i], z1[i]))"
   ]
  },
  {
   "cell_type": "code",
   "execution_count": null,
   "id": "b07ba25b",
   "metadata": {},
   "outputs": [],
   "source": [
    "x,y,z = np.loadtxt('Trefoil.csv', delimiter = ',', unpack = True)\n",
    "trefoil = curve()\n",
    "for i in range(len(x)):\n",
    "    trefoil.append(pos=vector(x[i], y[i], z[i]))"
   ]
  },
  {
   "cell_type": "code",
   "execution_count": null,
   "id": "e6bbb409",
   "metadata": {},
   "outputs": [],
   "source": [
    "walk(trefoil, 1)"
   ]
  }
 ],
 "metadata": {
  "kernelspec": {
   "display_name": "Python 3 (ipykernel)",
   "language": "python",
   "name": "python3"
  },
  "language_info": {
   "codemirror_mode": {
    "name": "ipython",
    "version": 3
   },
   "file_extension": ".py",
   "mimetype": "text/x-python",
   "name": "python",
   "nbconvert_exporter": "python",
   "pygments_lexer": "ipython3",
   "version": "3.9.7"
  }
 },
 "nbformat": 4,
 "nbformat_minor": 5
}
